{
 "cells": [
  {
   "cell_type": "markdown",
   "id": "66279a7c-b42d-4963-8c9b-a7cc247ddc99",
   "metadata": {},
   "source": [
    "Importing required modules for data manipulation and visiualization"
   ]
  },
  {
   "cell_type": "code",
   "execution_count": 1,
   "id": "6519de43-8cb3-482e-b51b-dafa07a1f58a",
   "metadata": {},
   "outputs": [],
   "source": [
    "import numpy as np\n",
    "import pandas as pd\n",
    "import matplotlib.pyplot as plt\n",
    "import seaborn as sns\n",
    "%matplotlib inline\n",
    "\n",
    "# Optional: Set plot styles\n",
    "sns.set(style=\"whitegrid\")\n",
    "\n",
    "import warnings\n",
    "warnings.filterwarnings('ignore')"
   ]
  },
  {
   "cell_type": "markdown",
   "id": "c8548284-a783-4542-b680-aa98e20b33c6",
   "metadata": {},
   "source": [
    "Reading Black Friday Sales dataset"
   ]
  },
  {
   "cell_type": "code",
   "execution_count": 2,
   "id": "17f0dfa9-9945-4939-892a-80035d439665",
   "metadata": {},
   "outputs": [
    {
     "data": {
      "text/html": [
       "<div>\n",
       "<style scoped>\n",
       "    .dataframe tbody tr th:only-of-type {\n",
       "        vertical-align: middle;\n",
       "    }\n",
       "\n",
       "    .dataframe tbody tr th {\n",
       "        vertical-align: top;\n",
       "    }\n",
       "\n",
       "    .dataframe thead th {\n",
       "        text-align: right;\n",
       "    }\n",
       "</style>\n",
       "<table border=\"1\" class=\"dataframe\">\n",
       "  <thead>\n",
       "    <tr style=\"text-align: right;\">\n",
       "      <th></th>\n",
       "      <th>User_ID</th>\n",
       "      <th>Product_ID</th>\n",
       "      <th>Gender</th>\n",
       "      <th>Age</th>\n",
       "      <th>Occupation</th>\n",
       "      <th>City_Category</th>\n",
       "      <th>Stay_In_Current_City_Years</th>\n",
       "      <th>Marital_Status</th>\n",
       "      <th>Product_Category_1</th>\n",
       "      <th>Product_Category_2</th>\n",
       "      <th>Product_Category_3</th>\n",
       "      <th>Purchase</th>\n",
       "    </tr>\n",
       "  </thead>\n",
       "  <tbody>\n",
       "    <tr>\n",
       "      <th>0</th>\n",
       "      <td>1000001</td>\n",
       "      <td>P00069042</td>\n",
       "      <td>F</td>\n",
       "      <td>0-17</td>\n",
       "      <td>10</td>\n",
       "      <td>A</td>\n",
       "      <td>2</td>\n",
       "      <td>0</td>\n",
       "      <td>3</td>\n",
       "      <td>NaN</td>\n",
       "      <td>NaN</td>\n",
       "      <td>8370</td>\n",
       "    </tr>\n",
       "    <tr>\n",
       "      <th>1</th>\n",
       "      <td>1000001</td>\n",
       "      <td>P00248942</td>\n",
       "      <td>F</td>\n",
       "      <td>0-17</td>\n",
       "      <td>10</td>\n",
       "      <td>A</td>\n",
       "      <td>2</td>\n",
       "      <td>0</td>\n",
       "      <td>1</td>\n",
       "      <td>6.0</td>\n",
       "      <td>14.0</td>\n",
       "      <td>15200</td>\n",
       "    </tr>\n",
       "    <tr>\n",
       "      <th>2</th>\n",
       "      <td>1000001</td>\n",
       "      <td>P00087842</td>\n",
       "      <td>F</td>\n",
       "      <td>0-17</td>\n",
       "      <td>10</td>\n",
       "      <td>A</td>\n",
       "      <td>2</td>\n",
       "      <td>0</td>\n",
       "      <td>12</td>\n",
       "      <td>NaN</td>\n",
       "      <td>NaN</td>\n",
       "      <td>1422</td>\n",
       "    </tr>\n",
       "  </tbody>\n",
       "</table>\n",
       "</div>"
      ],
      "text/plain": [
       "   User_ID Product_ID Gender   Age  Occupation City_Category  \\\n",
       "0  1000001  P00069042      F  0-17          10             A   \n",
       "1  1000001  P00248942      F  0-17          10             A   \n",
       "2  1000001  P00087842      F  0-17          10             A   \n",
       "\n",
       "  Stay_In_Current_City_Years  Marital_Status  Product_Category_1  \\\n",
       "0                          2               0                   3   \n",
       "1                          2               0                   1   \n",
       "2                          2               0                  12   \n",
       "\n",
       "   Product_Category_2  Product_Category_3  Purchase  \n",
       "0                 NaN                 NaN      8370  \n",
       "1                 6.0                14.0     15200  \n",
       "2                 NaN                 NaN      1422  "
      ]
     },
     "execution_count": 2,
     "metadata": {},
     "output_type": "execute_result"
    }
   ],
   "source": [
    "df = pd.read_csv(\"BlackFriday.csv\")\n",
    "df.head(3)"
   ]
  },
  {
   "cell_type": "markdown",
   "id": "a776462b-cda2-48d6-abc1-f84a51932a34",
   "metadata": {},
   "source": [
    "DATA PREPROCESSING\n",
    "- Information about dataset"
   ]
  },
  {
   "cell_type": "code",
   "execution_count": 3,
   "id": "985cbf6a-9a63-48ac-a456-7cdba9c1350e",
   "metadata": {},
   "outputs": [
    {
     "data": {
      "text/html": [
       "<div>\n",
       "<style scoped>\n",
       "    .dataframe tbody tr th:only-of-type {\n",
       "        vertical-align: middle;\n",
       "    }\n",
       "\n",
       "    .dataframe tbody tr th {\n",
       "        vertical-align: top;\n",
       "    }\n",
       "\n",
       "    .dataframe thead th {\n",
       "        text-align: right;\n",
       "    }\n",
       "</style>\n",
       "<table border=\"1\" class=\"dataframe\">\n",
       "  <thead>\n",
       "    <tr style=\"text-align: right;\">\n",
       "      <th></th>\n",
       "      <th>User_ID</th>\n",
       "      <th>Occupation</th>\n",
       "      <th>Marital_Status</th>\n",
       "      <th>Product_Category_1</th>\n",
       "      <th>Product_Category_2</th>\n",
       "      <th>Product_Category_3</th>\n",
       "      <th>Purchase</th>\n",
       "    </tr>\n",
       "  </thead>\n",
       "  <tbody>\n",
       "    <tr>\n",
       "      <th>count</th>\n",
       "      <td>5.375770e+05</td>\n",
       "      <td>537577.00000</td>\n",
       "      <td>537577.000000</td>\n",
       "      <td>537577.000000</td>\n",
       "      <td>370591.000000</td>\n",
       "      <td>164278.000000</td>\n",
       "      <td>537577.000000</td>\n",
       "    </tr>\n",
       "    <tr>\n",
       "      <th>mean</th>\n",
       "      <td>1.002992e+06</td>\n",
       "      <td>8.08271</td>\n",
       "      <td>0.408797</td>\n",
       "      <td>5.295546</td>\n",
       "      <td>9.842144</td>\n",
       "      <td>12.669840</td>\n",
       "      <td>9333.859853</td>\n",
       "    </tr>\n",
       "    <tr>\n",
       "      <th>std</th>\n",
       "      <td>1.714393e+03</td>\n",
       "      <td>6.52412</td>\n",
       "      <td>0.491612</td>\n",
       "      <td>3.750701</td>\n",
       "      <td>5.087259</td>\n",
       "      <td>4.124341</td>\n",
       "      <td>4981.022133</td>\n",
       "    </tr>\n",
       "    <tr>\n",
       "      <th>min</th>\n",
       "      <td>1.000001e+06</td>\n",
       "      <td>0.00000</td>\n",
       "      <td>0.000000</td>\n",
       "      <td>1.000000</td>\n",
       "      <td>2.000000</td>\n",
       "      <td>3.000000</td>\n",
       "      <td>185.000000</td>\n",
       "    </tr>\n",
       "    <tr>\n",
       "      <th>25%</th>\n",
       "      <td>1.001495e+06</td>\n",
       "      <td>2.00000</td>\n",
       "      <td>0.000000</td>\n",
       "      <td>1.000000</td>\n",
       "      <td>5.000000</td>\n",
       "      <td>9.000000</td>\n",
       "      <td>5866.000000</td>\n",
       "    </tr>\n",
       "    <tr>\n",
       "      <th>50%</th>\n",
       "      <td>1.003031e+06</td>\n",
       "      <td>7.00000</td>\n",
       "      <td>0.000000</td>\n",
       "      <td>5.000000</td>\n",
       "      <td>9.000000</td>\n",
       "      <td>14.000000</td>\n",
       "      <td>8062.000000</td>\n",
       "    </tr>\n",
       "    <tr>\n",
       "      <th>75%</th>\n",
       "      <td>1.004417e+06</td>\n",
       "      <td>14.00000</td>\n",
       "      <td>1.000000</td>\n",
       "      <td>8.000000</td>\n",
       "      <td>15.000000</td>\n",
       "      <td>16.000000</td>\n",
       "      <td>12073.000000</td>\n",
       "    </tr>\n",
       "    <tr>\n",
       "      <th>max</th>\n",
       "      <td>1.006040e+06</td>\n",
       "      <td>20.00000</td>\n",
       "      <td>1.000000</td>\n",
       "      <td>18.000000</td>\n",
       "      <td>18.000000</td>\n",
       "      <td>18.000000</td>\n",
       "      <td>23961.000000</td>\n",
       "    </tr>\n",
       "  </tbody>\n",
       "</table>\n",
       "</div>"
      ],
      "text/plain": [
       "            User_ID    Occupation  Marital_Status  Product_Category_1  \\\n",
       "count  5.375770e+05  537577.00000   537577.000000       537577.000000   \n",
       "mean   1.002992e+06       8.08271        0.408797            5.295546   \n",
       "std    1.714393e+03       6.52412        0.491612            3.750701   \n",
       "min    1.000001e+06       0.00000        0.000000            1.000000   \n",
       "25%    1.001495e+06       2.00000        0.000000            1.000000   \n",
       "50%    1.003031e+06       7.00000        0.000000            5.000000   \n",
       "75%    1.004417e+06      14.00000        1.000000            8.000000   \n",
       "max    1.006040e+06      20.00000        1.000000           18.000000   \n",
       "\n",
       "       Product_Category_2  Product_Category_3       Purchase  \n",
       "count       370591.000000       164278.000000  537577.000000  \n",
       "mean             9.842144           12.669840    9333.859853  \n",
       "std              5.087259            4.124341    4981.022133  \n",
       "min              2.000000            3.000000     185.000000  \n",
       "25%              5.000000            9.000000    5866.000000  \n",
       "50%              9.000000           14.000000    8062.000000  \n",
       "75%             15.000000           16.000000   12073.000000  \n",
       "max             18.000000           18.000000   23961.000000  "
      ]
     },
     "execution_count": 3,
     "metadata": {},
     "output_type": "execute_result"
    }
   ],
   "source": [
    "df.describe()"
   ]
  },
  {
   "cell_type": "code",
   "execution_count": 4,
   "id": "5b299d35-31bb-4509-919a-609c912263b4",
   "metadata": {},
   "outputs": [
    {
     "name": "stdout",
     "output_type": "stream",
     "text": [
      "<class 'pandas.core.frame.DataFrame'>\n",
      "RangeIndex: 537577 entries, 0 to 537576\n",
      "Data columns (total 12 columns):\n",
      " #   Column                      Non-Null Count   Dtype  \n",
      "---  ------                      --------------   -----  \n",
      " 0   User_ID                     537577 non-null  int64  \n",
      " 1   Product_ID                  537577 non-null  object \n",
      " 2   Gender                      537577 non-null  object \n",
      " 3   Age                         537577 non-null  object \n",
      " 4   Occupation                  537577 non-null  int64  \n",
      " 5   City_Category               537577 non-null  object \n",
      " 6   Stay_In_Current_City_Years  537577 non-null  object \n",
      " 7   Marital_Status              537577 non-null  int64  \n",
      " 8   Product_Category_1          537577 non-null  int64  \n",
      " 9   Product_Category_2          370591 non-null  float64\n",
      " 10  Product_Category_3          164278 non-null  float64\n",
      " 11  Purchase                    537577 non-null  int64  \n",
      "dtypes: float64(2), int64(5), object(5)\n",
      "memory usage: 49.2+ MB\n"
     ]
    }
   ],
   "source": [
    "df.info()"
   ]
  },
  {
   "cell_type": "markdown",
   "id": "df1b993d-d98f-406a-856e-354ee0d64128",
   "metadata": {},
   "source": [
    "This means that the columns Product_Category_2,Product_Category_3 contain 173638,383247 null values respectively"
   ]
  },
  {
   "cell_type": "code",
   "execution_count": 5,
   "id": "cf2a4c45-5675-4381-b9ab-7d4f8fff2d69",
   "metadata": {},
   "outputs": [
    {
     "data": {
      "text/plain": [
       "User_ID                         int64\n",
       "Product_ID                     object\n",
       "Gender                         object\n",
       "Age                            object\n",
       "Occupation                      int64\n",
       "City_Category                  object\n",
       "Stay_In_Current_City_Years     object\n",
       "Marital_Status                  int64\n",
       "Product_Category_1              int64\n",
       "Product_Category_2            float64\n",
       "Product_Category_3            float64\n",
       "Purchase                        int64\n",
       "dtype: object"
      ]
     },
     "execution_count": 5,
     "metadata": {},
     "output_type": "execute_result"
    }
   ],
   "source": [
    "df.dtypes"
   ]
  },
  {
   "cell_type": "code",
   "execution_count": 6,
   "id": "2760ca2a-c4dc-42d7-a14a-c2e43a62853d",
   "metadata": {},
   "outputs": [
    {
     "data": {
      "text/plain": [
       "User_ID                            0\n",
       "Product_ID                         0\n",
       "Gender                             0\n",
       "Age                                0\n",
       "Occupation                         0\n",
       "City_Category                      0\n",
       "Stay_In_Current_City_Years         0\n",
       "Marital_Status                     0\n",
       "Product_Category_1                 0\n",
       "Product_Category_2            166986\n",
       "Product_Category_3            373299\n",
       "Purchase                           0\n",
       "dtype: int64"
      ]
     },
     "execution_count": 6,
     "metadata": {},
     "output_type": "execute_result"
    }
   ],
   "source": [
    "df.isnull().sum()"
   ]
  },
  {
   "cell_type": "markdown",
   "id": "784f82e4-cde8-4532-a2b3-bdab0efc5dfb",
   "metadata": {},
   "source": [
    "- count of unique value of individual columns"
   ]
  },
  {
   "cell_type": "code",
   "execution_count": 7,
   "id": "7a8fbc42-287b-44d1-9ce7-06076e9ba13b",
   "metadata": {},
   "outputs": [
    {
     "name": "stdout",
     "output_type": "stream",
     "text": [
      "User_ID : 5891\n",
      "Product_ID : 3623\n",
      "Gender : 2\n",
      "Age : 7\n",
      "Occupation : 21\n",
      "City_Category : 3\n",
      "Stay_In_Current_City_Years : 5\n",
      "Marital_Status : 2\n",
      "Product_Category_1 : 18\n",
      "Product_Category_2 : 17\n",
      "Product_Category_3 : 15\n",
      "Purchase : 17959\n"
     ]
    }
   ],
   "source": [
    "for i in df.columns:\n",
    "    print(i,\":\",df[i].nunique())"
   ]
  },
  {
   "cell_type": "code",
   "execution_count": 8,
   "id": "5e097775-d140-41c3-b017-3adeb288ffd7",
   "metadata": {},
   "outputs": [
    {
     "data": {
      "text/plain": [
       "Index(['User_ID', 'Product_ID', 'Gender', 'Age', 'Occupation', 'City_Category',\n",
       "       'Stay_In_Current_City_Years', 'Marital_Status', 'Product_Category_1',\n",
       "       'Product_Category_2', 'Product_Category_3', 'Purchase'],\n",
       "      dtype='object')"
      ]
     },
     "execution_count": 8,
     "metadata": {},
     "output_type": "execute_result"
    }
   ],
   "source": [
    "df.columns"
   ]
  },
  {
   "cell_type": "markdown",
   "id": "930023d0-3063-42d5-9855-45e1d4b4b684",
   "metadata": {},
   "source": [
    "Renaming columns"
   ]
  },
  {
   "cell_type": "code",
   "execution_count": 9,
   "id": "5b19867f-6703-4f47-950e-fb1a4e8a4260",
   "metadata": {},
   "outputs": [
    {
     "data": {
      "text/plain": [
       "Index(['User_ID', 'Product_ID', 'Gender', 'Age', 'Occupation', 'City',\n",
       "       'Duration', 'Marital_Status', 'Product 1', 'Product 2', 'Product 3',\n",
       "       'Purchase'],\n",
       "      dtype='object')"
      ]
     },
     "execution_count": 9,
     "metadata": {},
     "output_type": "execute_result"
    }
   ],
   "source": [
    "df.rename(columns={\"City_Category\":\"City\",\n",
    "                   \"Stay_In_Current_City_Years\":\"Duration\",\n",
    "                   \"Product_Category_1\":\"Product 1\",\n",
    "                   \"Product_Category_2\":\"Product 2\",\n",
    "                   \"Product_Category_3\":\"Product 3\"},inplace=True)\n",
    "df.columns"
   ]
  },
  {
   "cell_type": "markdown",
   "id": "fb693bff-2d85-4128-9cc2-30e024d6af1c",
   "metadata": {},
   "source": [
    "- Checking for duplicate records"
   ]
  },
  {
   "cell_type": "code",
   "execution_count": 10,
   "id": "92792ac2-653d-469a-ba71-2708829059b9",
   "metadata": {},
   "outputs": [
    {
     "data": {
      "text/plain": [
       "False    537577\n",
       "Name: count, dtype: int64"
      ]
     },
     "execution_count": 10,
     "metadata": {},
     "output_type": "execute_result"
    }
   ],
   "source": [
    "df.duplicated().value_counts()"
   ]
  },
  {
   "cell_type": "markdown",
   "id": "905de822-28ee-40aa-9bdf-2738d8aa207a",
   "metadata": {},
   "source": [
    "This infers that there are no duplicate records in the dataset"
   ]
  },
  {
   "cell_type": "markdown",
   "id": "05a46ef0-737f-47a8-bdd8-17da71c6a6d7",
   "metadata": {},
   "source": [
    "- Individual column processing"
   ]
  },
  {
   "cell_type": "code",
   "execution_count": 11,
   "id": "1e0ec56b-4876-48ed-bdb5-571b20311a88",
   "metadata": {},
   "outputs": [
    {
     "data": {
      "text/plain": [
       "Gender\n",
       "M    405380\n",
       "F    132197\n",
       "Name: count, dtype: int64"
      ]
     },
     "execution_count": 11,
     "metadata": {},
     "output_type": "execute_result"
    }
   ],
   "source": [
    "df.Gender.value_counts()"
   ]
  },
  {
   "cell_type": "markdown",
   "id": "b03a8ecb-6f70-4459-b25b-3b27acccc40d",
   "metadata": {},
   "source": [
    "Gender column consists of only two values \"M\" and \"F\" and do not have any null values, which is the required format so we do not need to make any changes"
   ]
  },
  {
   "cell_type": "code",
   "execution_count": 12,
   "id": "65390b46-d70e-48ed-84f7-79aaa03ef831",
   "metadata": {},
   "outputs": [
    {
     "data": {
      "text/plain": [
       "Age\n",
       "26-35    214690\n",
       "36-45    107499\n",
       "18-25     97634\n",
       "46-50     44526\n",
       "51-55     37618\n",
       "55+       20903\n",
       "0-17      14707\n",
       "Name: count, dtype: int64"
      ]
     },
     "execution_count": 12,
     "metadata": {},
     "output_type": "execute_result"
    }
   ],
   "source": [
    "df.Age.value_counts()"
   ]
  },
  {
   "cell_type": "markdown",
   "id": "3e28560f-1ded-4246-8af1-ebefd2afc91f",
   "metadata": {},
   "source": [
    "Here we will convert the range of age to categories;\n",
    "\n",
    "0-25 : Adult\n",
    "\n",
    "26-50 : Middle-aged\n",
    "\n",
    "51+ : Old-aged"
   ]
  },
  {
   "cell_type": "code",
   "execution_count": 13,
   "id": "b357a546-b834-4ed3-9ee5-c9a7698ee810",
   "metadata": {},
   "outputs": [
    {
     "data": {
      "text/plain": [
       "Age\n",
       "Middle-aged    366715\n",
       "Adult          112341\n",
       "Old-aged        58521\n",
       "Name: count, dtype: int64"
      ]
     },
     "execution_count": 13,
     "metadata": {},
     "output_type": "execute_result"
    }
   ],
   "source": [
    "df.replace({\"Age\":{\n",
    "    \"0-17\":\"Adult\",\"18-25\":\"Adult\",\n",
    "    \"26-35\":\"Middle-aged\",\"36-45\":\"Middle-aged\",\"46-50\":\"Middle-aged\",\n",
    "    \"51-55\":\"Old-aged\",\"55+\":\"Old-aged\"}},inplace=True)\n",
    "df.Age.value_counts()"
   ]
  },
  {
   "cell_type": "markdown",
   "id": "f94586a0-4958-4779-8624-ce6cea4e7356",
   "metadata": {},
   "source": [
    "Here we have successfully classified the age groups in three categories"
   ]
  },
  {
   "cell_type": "code",
   "execution_count": 14,
   "id": "cc8c105d-c0ed-4041-ba0a-6c9ce9ed403b",
   "metadata": {},
   "outputs": [
    {
     "data": {
      "text/html": [
       "<div>\n",
       "<style scoped>\n",
       "    .dataframe tbody tr th:only-of-type {\n",
       "        vertical-align: middle;\n",
       "    }\n",
       "\n",
       "    .dataframe tbody tr th {\n",
       "        vertical-align: top;\n",
       "    }\n",
       "\n",
       "    .dataframe thead th {\n",
       "        text-align: right;\n",
       "    }\n",
       "</style>\n",
       "<table border=\"1\" class=\"dataframe\">\n",
       "  <thead>\n",
       "    <tr style=\"text-align: right;\">\n",
       "      <th></th>\n",
       "      <th>User_ID</th>\n",
       "      <th>Product_ID</th>\n",
       "      <th>Gender</th>\n",
       "      <th>Age</th>\n",
       "      <th>Occupation</th>\n",
       "      <th>City</th>\n",
       "      <th>Duration</th>\n",
       "      <th>Marital_Status</th>\n",
       "      <th>Product 1</th>\n",
       "      <th>Product 2</th>\n",
       "      <th>Product 3</th>\n",
       "      <th>Purchase</th>\n",
       "    </tr>\n",
       "  </thead>\n",
       "  <tbody>\n",
       "    <tr>\n",
       "      <th>0</th>\n",
       "      <td>1000001</td>\n",
       "      <td>P00069042</td>\n",
       "      <td>F</td>\n",
       "      <td>Adult</td>\n",
       "      <td>10</td>\n",
       "      <td>A</td>\n",
       "      <td>2</td>\n",
       "      <td>0</td>\n",
       "      <td>3</td>\n",
       "      <td>NaN</td>\n",
       "      <td>NaN</td>\n",
       "      <td>8370</td>\n",
       "    </tr>\n",
       "    <tr>\n",
       "      <th>1</th>\n",
       "      <td>1000001</td>\n",
       "      <td>P00248942</td>\n",
       "      <td>F</td>\n",
       "      <td>Adult</td>\n",
       "      <td>10</td>\n",
       "      <td>A</td>\n",
       "      <td>2</td>\n",
       "      <td>0</td>\n",
       "      <td>1</td>\n",
       "      <td>6.0</td>\n",
       "      <td>14.0</td>\n",
       "      <td>15200</td>\n",
       "    </tr>\n",
       "    <tr>\n",
       "      <th>2</th>\n",
       "      <td>1000001</td>\n",
       "      <td>P00087842</td>\n",
       "      <td>F</td>\n",
       "      <td>Adult</td>\n",
       "      <td>10</td>\n",
       "      <td>A</td>\n",
       "      <td>2</td>\n",
       "      <td>0</td>\n",
       "      <td>12</td>\n",
       "      <td>NaN</td>\n",
       "      <td>NaN</td>\n",
       "      <td>1422</td>\n",
       "    </tr>\n",
       "    <tr>\n",
       "      <th>3</th>\n",
       "      <td>1000001</td>\n",
       "      <td>P00085442</td>\n",
       "      <td>F</td>\n",
       "      <td>Adult</td>\n",
       "      <td>10</td>\n",
       "      <td>A</td>\n",
       "      <td>2</td>\n",
       "      <td>0</td>\n",
       "      <td>12</td>\n",
       "      <td>14.0</td>\n",
       "      <td>NaN</td>\n",
       "      <td>1057</td>\n",
       "    </tr>\n",
       "    <tr>\n",
       "      <th>4</th>\n",
       "      <td>1000002</td>\n",
       "      <td>P00285442</td>\n",
       "      <td>M</td>\n",
       "      <td>Old-aged</td>\n",
       "      <td>16</td>\n",
       "      <td>C</td>\n",
       "      <td>4+</td>\n",
       "      <td>0</td>\n",
       "      <td>8</td>\n",
       "      <td>NaN</td>\n",
       "      <td>NaN</td>\n",
       "      <td>7969</td>\n",
       "    </tr>\n",
       "    <tr>\n",
       "      <th>5</th>\n",
       "      <td>1000003</td>\n",
       "      <td>P00193542</td>\n",
       "      <td>M</td>\n",
       "      <td>Middle-aged</td>\n",
       "      <td>15</td>\n",
       "      <td>A</td>\n",
       "      <td>3</td>\n",
       "      <td>0</td>\n",
       "      <td>1</td>\n",
       "      <td>2.0</td>\n",
       "      <td>NaN</td>\n",
       "      <td>15227</td>\n",
       "    </tr>\n",
       "    <tr>\n",
       "      <th>6</th>\n",
       "      <td>1000004</td>\n",
       "      <td>P00184942</td>\n",
       "      <td>M</td>\n",
       "      <td>Middle-aged</td>\n",
       "      <td>7</td>\n",
       "      <td>B</td>\n",
       "      <td>2</td>\n",
       "      <td>1</td>\n",
       "      <td>1</td>\n",
       "      <td>8.0</td>\n",
       "      <td>17.0</td>\n",
       "      <td>19215</td>\n",
       "    </tr>\n",
       "    <tr>\n",
       "      <th>7</th>\n",
       "      <td>1000004</td>\n",
       "      <td>P00346142</td>\n",
       "      <td>M</td>\n",
       "      <td>Middle-aged</td>\n",
       "      <td>7</td>\n",
       "      <td>B</td>\n",
       "      <td>2</td>\n",
       "      <td>1</td>\n",
       "      <td>1</td>\n",
       "      <td>15.0</td>\n",
       "      <td>NaN</td>\n",
       "      <td>15854</td>\n",
       "    </tr>\n",
       "    <tr>\n",
       "      <th>8</th>\n",
       "      <td>1000004</td>\n",
       "      <td>P0097242</td>\n",
       "      <td>M</td>\n",
       "      <td>Middle-aged</td>\n",
       "      <td>7</td>\n",
       "      <td>B</td>\n",
       "      <td>2</td>\n",
       "      <td>1</td>\n",
       "      <td>1</td>\n",
       "      <td>16.0</td>\n",
       "      <td>NaN</td>\n",
       "      <td>15686</td>\n",
       "    </tr>\n",
       "    <tr>\n",
       "      <th>9</th>\n",
       "      <td>1000005</td>\n",
       "      <td>P00274942</td>\n",
       "      <td>M</td>\n",
       "      <td>Middle-aged</td>\n",
       "      <td>20</td>\n",
       "      <td>A</td>\n",
       "      <td>1</td>\n",
       "      <td>1</td>\n",
       "      <td>8</td>\n",
       "      <td>NaN</td>\n",
       "      <td>NaN</td>\n",
       "      <td>7871</td>\n",
       "    </tr>\n",
       "  </tbody>\n",
       "</table>\n",
       "</div>"
      ],
      "text/plain": [
       "   User_ID Product_ID Gender          Age  Occupation City Duration  \\\n",
       "0  1000001  P00069042      F        Adult          10    A        2   \n",
       "1  1000001  P00248942      F        Adult          10    A        2   \n",
       "2  1000001  P00087842      F        Adult          10    A        2   \n",
       "3  1000001  P00085442      F        Adult          10    A        2   \n",
       "4  1000002  P00285442      M     Old-aged          16    C       4+   \n",
       "5  1000003  P00193542      M  Middle-aged          15    A        3   \n",
       "6  1000004  P00184942      M  Middle-aged           7    B        2   \n",
       "7  1000004  P00346142      M  Middle-aged           7    B        2   \n",
       "8  1000004   P0097242      M  Middle-aged           7    B        2   \n",
       "9  1000005  P00274942      M  Middle-aged          20    A        1   \n",
       "\n",
       "   Marital_Status  Product 1  Product 2  Product 3  Purchase  \n",
       "0               0          3        NaN        NaN      8370  \n",
       "1               0          1        6.0       14.0     15200  \n",
       "2               0         12        NaN        NaN      1422  \n",
       "3               0         12       14.0        NaN      1057  \n",
       "4               0          8        NaN        NaN      7969  \n",
       "5               0          1        2.0        NaN     15227  \n",
       "6               1          1        8.0       17.0     19215  \n",
       "7               1          1       15.0        NaN     15854  \n",
       "8               1          1       16.0        NaN     15686  \n",
       "9               1          8        NaN        NaN      7871  "
      ]
     },
     "execution_count": 14,
     "metadata": {},
     "output_type": "execute_result"
    }
   ],
   "source": [
    "df.head(10)"
   ]
  },
  {
   "cell_type": "markdown",
   "id": "892ea527-db73-4364-a7ed-54672547c13e",
   "metadata": {},
   "source": [
    "Removing the \"+\" symbol in Duration column "
   ]
  },
  {
   "cell_type": "code",
   "execution_count": 15,
   "id": "2811ba18-e8c6-4291-8ba9-e70d28cde502",
   "metadata": {},
   "outputs": [],
   "source": [
    "df.Duration = df.Duration.str.replace(\"+\",\"\")"
   ]
  },
  {
   "cell_type": "code",
   "execution_count": 16,
   "id": "5d053159-e961-4fe6-b7a3-7fa37d721076",
   "metadata": {},
   "outputs": [
    {
     "data": {
      "text/html": [
       "<div>\n",
       "<style scoped>\n",
       "    .dataframe tbody tr th:only-of-type {\n",
       "        vertical-align: middle;\n",
       "    }\n",
       "\n",
       "    .dataframe tbody tr th {\n",
       "        vertical-align: top;\n",
       "    }\n",
       "\n",
       "    .dataframe thead th {\n",
       "        text-align: right;\n",
       "    }\n",
       "</style>\n",
       "<table border=\"1\" class=\"dataframe\">\n",
       "  <thead>\n",
       "    <tr style=\"text-align: right;\">\n",
       "      <th></th>\n",
       "      <th>User_ID</th>\n",
       "      <th>Product_ID</th>\n",
       "      <th>Gender</th>\n",
       "      <th>Age</th>\n",
       "      <th>Occupation</th>\n",
       "      <th>City</th>\n",
       "      <th>Duration</th>\n",
       "      <th>Marital_Status</th>\n",
       "      <th>Product 1</th>\n",
       "      <th>Product 2</th>\n",
       "      <th>Product 3</th>\n",
       "      <th>Purchase</th>\n",
       "    </tr>\n",
       "  </thead>\n",
       "  <tbody>\n",
       "    <tr>\n",
       "      <th>0</th>\n",
       "      <td>1000001</td>\n",
       "      <td>P00069042</td>\n",
       "      <td>F</td>\n",
       "      <td>Adult</td>\n",
       "      <td>10</td>\n",
       "      <td>A</td>\n",
       "      <td>2</td>\n",
       "      <td>0</td>\n",
       "      <td>3</td>\n",
       "      <td>NaN</td>\n",
       "      <td>NaN</td>\n",
       "      <td>8370</td>\n",
       "    </tr>\n",
       "    <tr>\n",
       "      <th>1</th>\n",
       "      <td>1000001</td>\n",
       "      <td>P00248942</td>\n",
       "      <td>F</td>\n",
       "      <td>Adult</td>\n",
       "      <td>10</td>\n",
       "      <td>A</td>\n",
       "      <td>2</td>\n",
       "      <td>0</td>\n",
       "      <td>1</td>\n",
       "      <td>6.0</td>\n",
       "      <td>14.0</td>\n",
       "      <td>15200</td>\n",
       "    </tr>\n",
       "    <tr>\n",
       "      <th>2</th>\n",
       "      <td>1000001</td>\n",
       "      <td>P00087842</td>\n",
       "      <td>F</td>\n",
       "      <td>Adult</td>\n",
       "      <td>10</td>\n",
       "      <td>A</td>\n",
       "      <td>2</td>\n",
       "      <td>0</td>\n",
       "      <td>12</td>\n",
       "      <td>NaN</td>\n",
       "      <td>NaN</td>\n",
       "      <td>1422</td>\n",
       "    </tr>\n",
       "    <tr>\n",
       "      <th>3</th>\n",
       "      <td>1000001</td>\n",
       "      <td>P00085442</td>\n",
       "      <td>F</td>\n",
       "      <td>Adult</td>\n",
       "      <td>10</td>\n",
       "      <td>A</td>\n",
       "      <td>2</td>\n",
       "      <td>0</td>\n",
       "      <td>12</td>\n",
       "      <td>14.0</td>\n",
       "      <td>NaN</td>\n",
       "      <td>1057</td>\n",
       "    </tr>\n",
       "    <tr>\n",
       "      <th>4</th>\n",
       "      <td>1000002</td>\n",
       "      <td>P00285442</td>\n",
       "      <td>M</td>\n",
       "      <td>Old-aged</td>\n",
       "      <td>16</td>\n",
       "      <td>C</td>\n",
       "      <td>4</td>\n",
       "      <td>0</td>\n",
       "      <td>8</td>\n",
       "      <td>NaN</td>\n",
       "      <td>NaN</td>\n",
       "      <td>7969</td>\n",
       "    </tr>\n",
       "    <tr>\n",
       "      <th>5</th>\n",
       "      <td>1000003</td>\n",
       "      <td>P00193542</td>\n",
       "      <td>M</td>\n",
       "      <td>Middle-aged</td>\n",
       "      <td>15</td>\n",
       "      <td>A</td>\n",
       "      <td>3</td>\n",
       "      <td>0</td>\n",
       "      <td>1</td>\n",
       "      <td>2.0</td>\n",
       "      <td>NaN</td>\n",
       "      <td>15227</td>\n",
       "    </tr>\n",
       "    <tr>\n",
       "      <th>6</th>\n",
       "      <td>1000004</td>\n",
       "      <td>P00184942</td>\n",
       "      <td>M</td>\n",
       "      <td>Middle-aged</td>\n",
       "      <td>7</td>\n",
       "      <td>B</td>\n",
       "      <td>2</td>\n",
       "      <td>1</td>\n",
       "      <td>1</td>\n",
       "      <td>8.0</td>\n",
       "      <td>17.0</td>\n",
       "      <td>19215</td>\n",
       "    </tr>\n",
       "    <tr>\n",
       "      <th>7</th>\n",
       "      <td>1000004</td>\n",
       "      <td>P00346142</td>\n",
       "      <td>M</td>\n",
       "      <td>Middle-aged</td>\n",
       "      <td>7</td>\n",
       "      <td>B</td>\n",
       "      <td>2</td>\n",
       "      <td>1</td>\n",
       "      <td>1</td>\n",
       "      <td>15.0</td>\n",
       "      <td>NaN</td>\n",
       "      <td>15854</td>\n",
       "    </tr>\n",
       "    <tr>\n",
       "      <th>8</th>\n",
       "      <td>1000004</td>\n",
       "      <td>P0097242</td>\n",
       "      <td>M</td>\n",
       "      <td>Middle-aged</td>\n",
       "      <td>7</td>\n",
       "      <td>B</td>\n",
       "      <td>2</td>\n",
       "      <td>1</td>\n",
       "      <td>1</td>\n",
       "      <td>16.0</td>\n",
       "      <td>NaN</td>\n",
       "      <td>15686</td>\n",
       "    </tr>\n",
       "    <tr>\n",
       "      <th>9</th>\n",
       "      <td>1000005</td>\n",
       "      <td>P00274942</td>\n",
       "      <td>M</td>\n",
       "      <td>Middle-aged</td>\n",
       "      <td>20</td>\n",
       "      <td>A</td>\n",
       "      <td>1</td>\n",
       "      <td>1</td>\n",
       "      <td>8</td>\n",
       "      <td>NaN</td>\n",
       "      <td>NaN</td>\n",
       "      <td>7871</td>\n",
       "    </tr>\n",
       "  </tbody>\n",
       "</table>\n",
       "</div>"
      ],
      "text/plain": [
       "   User_ID Product_ID Gender          Age  Occupation City Duration  \\\n",
       "0  1000001  P00069042      F        Adult          10    A        2   \n",
       "1  1000001  P00248942      F        Adult          10    A        2   \n",
       "2  1000001  P00087842      F        Adult          10    A        2   \n",
       "3  1000001  P00085442      F        Adult          10    A        2   \n",
       "4  1000002  P00285442      M     Old-aged          16    C        4   \n",
       "5  1000003  P00193542      M  Middle-aged          15    A        3   \n",
       "6  1000004  P00184942      M  Middle-aged           7    B        2   \n",
       "7  1000004  P00346142      M  Middle-aged           7    B        2   \n",
       "8  1000004   P0097242      M  Middle-aged           7    B        2   \n",
       "9  1000005  P00274942      M  Middle-aged          20    A        1   \n",
       "\n",
       "   Marital_Status  Product 1  Product 2  Product 3  Purchase  \n",
       "0               0          3        NaN        NaN      8370  \n",
       "1               0          1        6.0       14.0     15200  \n",
       "2               0         12        NaN        NaN      1422  \n",
       "3               0         12       14.0        NaN      1057  \n",
       "4               0          8        NaN        NaN      7969  \n",
       "5               0          1        2.0        NaN     15227  \n",
       "6               1          1        8.0       17.0     19215  \n",
       "7               1          1       15.0        NaN     15854  \n",
       "8               1          1       16.0        NaN     15686  \n",
       "9               1          8        NaN        NaN      7871  "
      ]
     },
     "execution_count": 16,
     "metadata": {},
     "output_type": "execute_result"
    }
   ],
   "source": [
    "df.head(10)"
   ]
  },
  {
   "cell_type": "code",
   "execution_count": 17,
   "id": "f29e9219-036c-4e93-8de5-ab28b7ca0605",
   "metadata": {},
   "outputs": [
    {
     "data": {
      "text/html": [
       "<div>\n",
       "<style scoped>\n",
       "    .dataframe tbody tr th:only-of-type {\n",
       "        vertical-align: middle;\n",
       "    }\n",
       "\n",
       "    .dataframe tbody tr th {\n",
       "        vertical-align: top;\n",
       "    }\n",
       "\n",
       "    .dataframe thead th {\n",
       "        text-align: right;\n",
       "    }\n",
       "</style>\n",
       "<table border=\"1\" class=\"dataframe\">\n",
       "  <thead>\n",
       "    <tr style=\"text-align: right;\">\n",
       "      <th></th>\n",
       "      <th>User_ID</th>\n",
       "      <th>Product_ID</th>\n",
       "      <th>Gender</th>\n",
       "      <th>Age</th>\n",
       "      <th>Occupation</th>\n",
       "      <th>City</th>\n",
       "      <th>Duration</th>\n",
       "      <th>Marital_Status</th>\n",
       "      <th>Product 1</th>\n",
       "      <th>Product 2</th>\n",
       "      <th>Product 3</th>\n",
       "      <th>Purchase</th>\n",
       "    </tr>\n",
       "  </thead>\n",
       "  <tbody>\n",
       "    <tr>\n",
       "      <th>0</th>\n",
       "      <td>1000001</td>\n",
       "      <td>P00069042</td>\n",
       "      <td>F</td>\n",
       "      <td>Adult</td>\n",
       "      <td>10</td>\n",
       "      <td>A</td>\n",
       "      <td>2</td>\n",
       "      <td>0</td>\n",
       "      <td>3</td>\n",
       "      <td>NaN</td>\n",
       "      <td>NaN</td>\n",
       "      <td>8370</td>\n",
       "    </tr>\n",
       "    <tr>\n",
       "      <th>1</th>\n",
       "      <td>1000001</td>\n",
       "      <td>P00248942</td>\n",
       "      <td>F</td>\n",
       "      <td>Adult</td>\n",
       "      <td>10</td>\n",
       "      <td>A</td>\n",
       "      <td>2</td>\n",
       "      <td>0</td>\n",
       "      <td>1</td>\n",
       "      <td>6.0</td>\n",
       "      <td>14.0</td>\n",
       "      <td>15200</td>\n",
       "    </tr>\n",
       "    <tr>\n",
       "      <th>2</th>\n",
       "      <td>1000001</td>\n",
       "      <td>P00087842</td>\n",
       "      <td>F</td>\n",
       "      <td>Adult</td>\n",
       "      <td>10</td>\n",
       "      <td>A</td>\n",
       "      <td>2</td>\n",
       "      <td>0</td>\n",
       "      <td>12</td>\n",
       "      <td>NaN</td>\n",
       "      <td>NaN</td>\n",
       "      <td>1422</td>\n",
       "    </tr>\n",
       "    <tr>\n",
       "      <th>3</th>\n",
       "      <td>1000001</td>\n",
       "      <td>P00085442</td>\n",
       "      <td>F</td>\n",
       "      <td>Adult</td>\n",
       "      <td>10</td>\n",
       "      <td>A</td>\n",
       "      <td>2</td>\n",
       "      <td>0</td>\n",
       "      <td>12</td>\n",
       "      <td>14.0</td>\n",
       "      <td>NaN</td>\n",
       "      <td>1057</td>\n",
       "    </tr>\n",
       "    <tr>\n",
       "      <th>4</th>\n",
       "      <td>1000002</td>\n",
       "      <td>P00285442</td>\n",
       "      <td>M</td>\n",
       "      <td>Old-aged</td>\n",
       "      <td>16</td>\n",
       "      <td>C</td>\n",
       "      <td>4</td>\n",
       "      <td>0</td>\n",
       "      <td>8</td>\n",
       "      <td>NaN</td>\n",
       "      <td>NaN</td>\n",
       "      <td>7969</td>\n",
       "    </tr>\n",
       "    <tr>\n",
       "      <th>...</th>\n",
       "      <td>...</td>\n",
       "      <td>...</td>\n",
       "      <td>...</td>\n",
       "      <td>...</td>\n",
       "      <td>...</td>\n",
       "      <td>...</td>\n",
       "      <td>...</td>\n",
       "      <td>...</td>\n",
       "      <td>...</td>\n",
       "      <td>...</td>\n",
       "      <td>...</td>\n",
       "      <td>...</td>\n",
       "    </tr>\n",
       "    <tr>\n",
       "      <th>537572</th>\n",
       "      <td>1004737</td>\n",
       "      <td>P00193542</td>\n",
       "      <td>M</td>\n",
       "      <td>Middle-aged</td>\n",
       "      <td>16</td>\n",
       "      <td>C</td>\n",
       "      <td>1</td>\n",
       "      <td>0</td>\n",
       "      <td>1</td>\n",
       "      <td>2.0</td>\n",
       "      <td>NaN</td>\n",
       "      <td>11664</td>\n",
       "    </tr>\n",
       "    <tr>\n",
       "      <th>537573</th>\n",
       "      <td>1004737</td>\n",
       "      <td>P00111142</td>\n",
       "      <td>M</td>\n",
       "      <td>Middle-aged</td>\n",
       "      <td>16</td>\n",
       "      <td>C</td>\n",
       "      <td>1</td>\n",
       "      <td>0</td>\n",
       "      <td>1</td>\n",
       "      <td>15.0</td>\n",
       "      <td>16.0</td>\n",
       "      <td>19196</td>\n",
       "    </tr>\n",
       "    <tr>\n",
       "      <th>537574</th>\n",
       "      <td>1004737</td>\n",
       "      <td>P00345942</td>\n",
       "      <td>M</td>\n",
       "      <td>Middle-aged</td>\n",
       "      <td>16</td>\n",
       "      <td>C</td>\n",
       "      <td>1</td>\n",
       "      <td>0</td>\n",
       "      <td>8</td>\n",
       "      <td>15.0</td>\n",
       "      <td>NaN</td>\n",
       "      <td>8043</td>\n",
       "    </tr>\n",
       "    <tr>\n",
       "      <th>537575</th>\n",
       "      <td>1004737</td>\n",
       "      <td>P00285842</td>\n",
       "      <td>M</td>\n",
       "      <td>Middle-aged</td>\n",
       "      <td>16</td>\n",
       "      <td>C</td>\n",
       "      <td>1</td>\n",
       "      <td>0</td>\n",
       "      <td>5</td>\n",
       "      <td>NaN</td>\n",
       "      <td>NaN</td>\n",
       "      <td>7172</td>\n",
       "    </tr>\n",
       "    <tr>\n",
       "      <th>537576</th>\n",
       "      <td>1004737</td>\n",
       "      <td>P00118242</td>\n",
       "      <td>M</td>\n",
       "      <td>Middle-aged</td>\n",
       "      <td>16</td>\n",
       "      <td>C</td>\n",
       "      <td>1</td>\n",
       "      <td>0</td>\n",
       "      <td>5</td>\n",
       "      <td>8.0</td>\n",
       "      <td>NaN</td>\n",
       "      <td>6875</td>\n",
       "    </tr>\n",
       "  </tbody>\n",
       "</table>\n",
       "<p>537577 rows × 12 columns</p>\n",
       "</div>"
      ],
      "text/plain": [
       "        User_ID Product_ID Gender          Age  Occupation City Duration  \\\n",
       "0       1000001  P00069042      F        Adult          10    A        2   \n",
       "1       1000001  P00248942      F        Adult          10    A        2   \n",
       "2       1000001  P00087842      F        Adult          10    A        2   \n",
       "3       1000001  P00085442      F        Adult          10    A        2   \n",
       "4       1000002  P00285442      M     Old-aged          16    C        4   \n",
       "...         ...        ...    ...          ...         ...  ...      ...   \n",
       "537572  1004737  P00193542      M  Middle-aged          16    C        1   \n",
       "537573  1004737  P00111142      M  Middle-aged          16    C        1   \n",
       "537574  1004737  P00345942      M  Middle-aged          16    C        1   \n",
       "537575  1004737  P00285842      M  Middle-aged          16    C        1   \n",
       "537576  1004737  P00118242      M  Middle-aged          16    C        1   \n",
       "\n",
       "        Marital_Status  Product 1  Product 2  Product 3  Purchase  \n",
       "0                    0          3        NaN        NaN      8370  \n",
       "1                    0          1        6.0       14.0     15200  \n",
       "2                    0         12        NaN        NaN      1422  \n",
       "3                    0         12       14.0        NaN      1057  \n",
       "4                    0          8        NaN        NaN      7969  \n",
       "...                ...        ...        ...        ...       ...  \n",
       "537572               0          1        2.0        NaN     11664  \n",
       "537573               0          1       15.0       16.0     19196  \n",
       "537574               0          8       15.0        NaN      8043  \n",
       "537575               0          5        NaN        NaN      7172  \n",
       "537576               0          5        8.0        NaN      6875  \n",
       "\n",
       "[537577 rows x 12 columns]"
      ]
     },
     "execution_count": 17,
     "metadata": {},
     "output_type": "execute_result"
    }
   ],
   "source": [
    "df"
   ]
  },
  {
   "cell_type": "markdown",
   "id": "f2f913bc-36f0-46c9-92b3-00dbf2e2a0da",
   "metadata": {},
   "source": [
    "Here we have successfully removed the + symbol from duration column"
   ]
  },
  {
   "cell_type": "markdown",
   "id": "c5621d5a-262f-4f1c-9a33-a179cf0d91a4",
   "metadata": {},
   "source": [
    "- Processing null values\n",
    "Only columns Product_Category_2, Product_Category_3 contain null values , so we will replace null values with 0, assuming 0 stands for Unknown category"
   ]
  },
  {
   "cell_type": "code",
   "execution_count": 18,
   "id": "86a1e63d-3bfb-46fe-86c6-5ac0115ff74d",
   "metadata": {},
   "outputs": [
    {
     "data": {
      "text/plain": [
       "(np.float64(8.0), np.float64(16.0))"
      ]
     },
     "execution_count": 18,
     "metadata": {},
     "output_type": "execute_result"
    }
   ],
   "source": [
    "a1,b1=[(df[df.loc[:,\"City\"]==\"A\"]).groupby(\"Product 2\")[\"Product 2\"].count().idxmax(),(df[df.loc[:,\"City\"]==\"A\"]).groupby(\"Product 3\")[\"Product 3\"].count().idxmax()]\n",
    "a1,b1"
   ]
  },
  {
   "cell_type": "code",
   "execution_count": 19,
   "id": "7f8a0265-bbe0-4bde-918f-cc257cb40ba6",
   "metadata": {},
   "outputs": [
    {
     "data": {
      "text/plain": [
       "(np.float64(8.0), np.float64(16.0))"
      ]
     },
     "execution_count": 19,
     "metadata": {},
     "output_type": "execute_result"
    }
   ],
   "source": [
    "a2,b2=[(df[df.loc[:,\"City\"]==\"B\"]).groupby(\"Product 2\")[\"Product 2\"].count().idxmax(),(df[df.loc[:,\"City\"]==\"B\"]).groupby(\"Product 3\")[\"Product 3\"].count().idxmax()]\n",
    "a2,b2"
   ]
  },
  {
   "cell_type": "code",
   "execution_count": 20,
   "id": "c4ca3991-e7df-41ff-8e4d-c375add19104",
   "metadata": {},
   "outputs": [
    {
     "data": {
      "text/plain": [
       "(np.float64(8.0), np.float64(16.0))"
      ]
     },
     "execution_count": 20,
     "metadata": {},
     "output_type": "execute_result"
    }
   ],
   "source": [
    "a3,b3=[(df[df.loc[:,\"City\"]==\"C\"]).groupby(\"Product 2\")[\"Product 2\"].count().idxmax(),(df[df.loc[:,\"City\"]==\"C\"]).groupby(\"Product 3\")[\"Product 3\"].count().idxmax()]\n",
    "a3,b3"
   ]
  },
  {
   "cell_type": "markdown",
   "id": "06dcd1e5-36df-4aef-ae95-0311cd85c70c",
   "metadata": {},
   "source": [
    "In city A,B,C product 2 of category 8 and product 3 of category 16 is purchased maximum number of times , so we will fill all the null values according according to this criteria"
   ]
  },
  {
   "cell_type": "code",
   "execution_count": 21,
   "id": "f64f4583-2506-441c-afcd-d75fc436bf32",
   "metadata": {},
   "outputs": [
    {
     "data": {
      "text/plain": [
       "<Axes: xlabel='City'>"
      ]
     },
     "execution_count": 21,
     "metadata": {},
     "output_type": "execute_result"
    },
    {
     "data": {
      "image/png": "[encoded data removed]",
      "text/plain": [
       "<Figure size 640x480 with 1 Axes>"
      ]
     },
     "metadata": {},
     "output_type": "display_data"
    }
   ],
   "source": [
    "df.loc[:,['City',\"Product 1\",\"Product 2\",\"Product 3\"]].groupby(\"City\")[[\"Product 1\",\"Product 2\",\"Product 3\"]].agg([\"count\"]).plot(kind=\"bar\")"
   ]
  },
  {
   "cell_type": "markdown",
   "id": "55c10cdc-7606-4bcf-98a5-cff4e9a8016d",
   "metadata": {},
   "source": [
    "Inferences;\n",
    "\n",
    "Purchase of Product 1 is maximum in all 3 cities\n",
    "Product 1 is purchased maximum number of times from customers of city B followed by city C and at the last city A\n",
    "Product 2 is purchased maximum number of times from customers of city B followed by city C and at the last city A\n",
    "Product 3 is purchased maximum number of times from customers of city B followed by city C and at the last city A"
   ]
  },
  {
   "cell_type": "code",
   "execution_count": 22,
   "id": "458503de-8afd-43c6-abb3-0f2e0d260d05",
   "metadata": {},
   "outputs": [],
   "source": [
    "df.loc[(df.loc[:,\"City\"]==\"A\") & (df[\"Product 2\"].isnull()),\"Product 2\"]=a1\n",
    "df.loc[(df.loc[:,\"City\"]==\"A\") & (df[\"Product 3\"].isnull()),\"Product 3\"]=b1\n",
    "df.loc[(df.loc[:,\"City\"]==\"B\") & (df[\"Product 2\"].isnull()),\"Product 2\"]=a2\n",
    "df.loc[(df.loc[:,\"City\"]==\"B\") & (df[\"Product 3\"].isnull()),\"Product 3\"]=b2\n",
    "df.loc[(df.loc[:,\"City\"]==\"C\") & (df[\"Product 2\"].isnull()),\"Product 2\"]=a3\n",
    "df.loc[(df.loc[:,\"City\"]==\"C\") & (df[\"Product 3\"].isnull()),\"Product 3\"]=b3"
   ]
  },
  {
   "cell_type": "code",
   "execution_count": 23,
   "id": "e4372b74-ce69-4f1f-91e2-4a50ac9cf1c5",
   "metadata": {},
   "outputs": [
    {
     "name": "stdout",
     "output_type": "stream",
     "text": [
      "<class 'pandas.core.frame.DataFrame'>\n",
      "RangeIndex: 537577 entries, 0 to 537576\n",
      "Data columns (total 12 columns):\n",
      " #   Column          Non-Null Count   Dtype  \n",
      "---  ------          --------------   -----  \n",
      " 0   User_ID         537577 non-null  int64  \n",
      " 1   Product_ID      537577 non-null  object \n",
      " 2   Gender          537577 non-null  object \n",
      " 3   Age             537577 non-null  object \n",
      " 4   Occupation      537577 non-null  int64  \n",
      " 5   City            537577 non-null  object \n",
      " 6   Duration        537577 non-null  object \n",
      " 7   Marital_Status  537577 non-null  int64  \n",
      " 8   Product 1       537577 non-null  int64  \n",
      " 9   Product 2       537577 non-null  float64\n",
      " 10  Product 3       537577 non-null  float64\n",
      " 11  Purchase        537577 non-null  int64  \n",
      "dtypes: float64(2), int64(5), object(5)\n",
      "memory usage: 49.2+ MB\n"
     ]
    }
   ],
   "source": [
    "df.info()"
   ]
  },
  {
   "cell_type": "markdown",
   "id": "154bd7ae-6055-4743-8e07-b5e0e355133f",
   "metadata": {},
   "source": [
    "Here we have successfully handled all the null values"
   ]
  },
  {
   "cell_type": "markdown",
   "id": "7f48d960-751c-4876-a5a8-99e3ec0b0a51",
   "metadata": {},
   "source": [
    "Data Visualization\n"
   ]
  },
  {
   "cell_type": "markdown",
   "id": "b4396c39-c281-4df4-bb34-28b2e1c42444",
   "metadata": {},
   "source": [
    "1.Gender-based Purchase Analysis:"
   ]
  },
  {
   "cell_type": "code",
   "execution_count": 24,
   "id": "057624df-a032-4dbc-8e02-25b408ef26cc",
   "metadata": {},
   "outputs": [
    {
     "data": {
      "image/png": "[encoded data removed]",
      "text/plain": [
       "<Figure size 600x400 with 1 Axes>"
      ]
     },
     "metadata": {},
     "output_type": "display_data"
    }
   ],
   "source": [
    "# Gender-based total purchases\n",
    "gender_purchase = df.groupby('Gender')['Purchase'].sum()\n",
    "\n",
    "# Plot Gender-based total purchase amount\n",
    "plt.figure(figsize=(6,4))\n",
    "sns.barplot(x=gender_purchase.index, y=gender_purchase.values, palette='viridis')\n",
    "plt.title('Total Purchase Amount by Gender')\n",
    "plt.ylabel('Total Purchase Amount')\n",
    "plt.xlabel('Gender')\n",
    "plt.show()"
   ]
  },
  {
   "cell_type": "markdown",
   "id": "a3080459-a4df-4434-884d-9e4c8709cefc",
   "metadata": {},
   "source": [
    "Inference:\n",
    "Male purchase more as compared to Female.\n"
   ]
  },
  {
   "cell_type": "markdown",
   "id": "e91bfea4-7cd4-4acd-914c-5a77365d6576",
   "metadata": {},
   "source": [
    "2.Age Group Purchase Patterns:"
   ]
  },
  {
   "cell_type": "code",
   "execution_count": 25,
   "id": "48715df7-4c73-490d-ab40-315c11fa7331",
   "metadata": {},
   "outputs": [
    {
     "data": {
      "image/png": "[encoded data removed]",
      "text/plain": [
       "<Figure size 800x500 with 1 Axes>"
      ]
     },
     "metadata": {},
     "output_type": "display_data"
    }
   ],
   "source": [
    "# Age group spending\n",
    "age_group_purchase = df.groupby('Age')['Purchase'].sum()\n",
    "\n",
    "# Plot Age group spending\n",
    "plt.figure(figsize=(8,5))\n",
    "sns.barplot(x=age_group_purchase.index, y=age_group_purchase.values, palette='coolwarm')\n",
    "plt.title('Total Purchase Amount by Age Group')\n",
    "plt.ylabel('Total Purchase Amount')\n",
    "plt.xlabel('Age Group')\n",
    "plt.show()"
   ]
  },
  {
   "cell_type": "markdown",
   "id": "03e9f896-2c29-49f5-89e7-30ba63008077",
   "metadata": {},
   "source": [
    "Inference:\n",
    "Middle-aged age group purchase amount is more followed by adult and at last old-aged"
   ]
  },
  {
   "cell_type": "markdown",
   "id": "a167e816-c358-4842-ad2d-55ee9bec72e6",
   "metadata": {},
   "source": [
    "3.Occupation and Purchase Patterns:"
   ]
  },
  {
   "cell_type": "code",
   "execution_count": 26,
   "id": "41eacb4c-4471-4edb-a16f-a292cfba8688",
   "metadata": {},
   "outputs": [
    {
     "data": {
      "image/png": "[encoded data removed]",
      "text/plain": [
       "<Figure size 800x500 with 1 Axes>"
      ]
     },
     "metadata": {},
     "output_type": "display_data"
    }
   ],
   "source": [
    "# Top occupations by purchase amount\n",
    "top_occupations = df.groupby('Occupation')['Purchase'].sum().sort_values(ascending=False).head(10)\n",
    "\n",
    "# Plot top occupations by purchase\n",
    "plt.figure(figsize=(8,5))\n",
    "sns.barplot(x=top_occupations.index, y=top_occupations.values, palette='magma')\n",
    "plt.title('Top 10 Occupations by Purchase Amount')\n",
    "plt.ylabel('Total Purchase Amount')\n",
    "plt.xlabel('Occupation')\n",
    "plt.show()"
   ]
  },
  {
   "cell_type": "markdown",
   "id": "b7be9440-bafe-4314-a803-9f1ce06cba15",
   "metadata": {},
   "source": [
    "Inferences:\n",
    "\n",
    "Purchase rate of customers from occupation 4,0,7 is the highest"
   ]
  },
  {
   "cell_type": "markdown",
   "id": "cd06061d-8a9e-4987-be81-5d59213ddcbc",
   "metadata": {},
   "source": [
    "4.City Category and Purchase Patterns:"
   ]
  },
  {
   "cell_type": "code",
   "execution_count": 27,
   "id": "c64d7937-1cbe-4eb2-978d-f97c705e97ba",
   "metadata": {},
   "outputs": [
    {
     "data": {
      "image/png": "[encoded data removed]",
      "text/plain": [
       "<Figure size 600x400 with 1 Axes>"
      ]
     },
     "metadata": {},
     "output_type": "display_data"
    }
   ],
   "source": [
    "# City category analysis\n",
    "city_purchase = df.groupby('City')['Purchase'].sum()\n",
    "\n",
    "# Plot city-based spending\n",
    "plt.figure(figsize=(6,4))\n",
    "sns.barplot(x=city_purchase.index, y=city_purchase.values, palette='cividis')\n",
    "plt.title('Total Purchase Amount by City')\n",
    "plt.ylabel('Total Purchase Amount')\n",
    "plt.xlabel('City')\n",
    "plt.show()"
   ]
  },
  {
   "cell_type": "markdown",
   "id": "30aa9a45-9960-46ee-a960-27cbc7b1a85c",
   "metadata": {},
   "source": [
    "Inference:\n",
    "Purchase rate of City B is more followed by City A and at last City C"
   ]
  },
  {
   "cell_type": "markdown",
   "id": "3fccc69b-fdfb-4d59-9d4c-2742943b883a",
   "metadata": {},
   "source": [
    "5.Stay Duration and Purchase Patterns:"
   ]
  },
  {
   "cell_type": "code",
   "execution_count": 28,
   "id": "afe28b2a-97ef-4d7f-a350-c39a19ba037f",
   "metadata": {},
   "outputs": [
    {
     "data": {
      "image/png": "[encoded data removed]",
      "text/plain": [
       "<Figure size 800x500 with 1 Axes>"
      ]
     },
     "metadata": {},
     "output_type": "display_data"
    }
   ],
   "source": [
    "# Stay duration and spending\n",
    "stay_duration_purchase = df.groupby('Duration')['Purchase'].sum()\n",
    "\n",
    "# Plot stay duration and spending\n",
    "plt.figure(figsize=(8,5))\n",
    "sns.barplot(x=stay_duration_purchase.index, y=stay_duration_purchase.values, palette='plasma')\n",
    "plt.title('Total Purchase Amount by Stay Duration in Current City')\n",
    "plt.ylabel('Total Purchase Amount')\n",
    "plt.xlabel('Stay Duration (Years)')\n",
    "plt.show()"
   ]
  },
  {
   "cell_type": "markdown",
   "id": "2ef280c4-e74e-4e0b-986f-8de06a70414b",
   "metadata": {},
   "source": [
    "Cuustomer who have stayed in city for 1 year have more purchase rate."
   ]
  },
  {
   "cell_type": "markdown",
   "id": "80eb9658-355b-4345-8e6c-9b67c0cca31b",
   "metadata": {},
   "source": [
    "6.Marital Status and Purchase Behavior"
   ]
  },
  {
   "cell_type": "code",
   "execution_count": 29,
   "id": "bcb13a6b-2680-4036-91d4-9152132fc18a",
   "metadata": {},
   "outputs": [
    {
     "data": {
      "text/plain": [
       "Marital_Status\n",
       "0    317817\n",
       "1    219760\n",
       "Name: count, dtype: int64"
      ]
     },
     "execution_count": 29,
     "metadata": {},
     "output_type": "execute_result"
    }
   ],
   "source": [
    "# visualizing the Marital Status\n",
    "\n",
    "df['Marital_Status'].value_counts()"
   ]
  },
  {
   "cell_type": "code",
   "execution_count": 33,
   "id": "e2c8a0df-89bc-465a-a070-6e02ab0b5c05",
   "metadata": {},
   "outputs": [
    {
     "data": {
      "image/png": "[encoded data removed]",
      "text/plain": [
       "<Figure size 640x480 with 1 Axes>"
      ]
     },
     "metadata": {},
     "output_type": "display_data"
    }
   ],
   "source": [
    "# pie chart \n",
    "\n",
    "size = [317817, 219760]\n",
    "labels = ['Unmarried', 'married']\n",
    "colors = ['yellow', 'pink']\n",
    "explode = [0, 0.1]\n",
    "\n",
    "plt.pie(size, colors = colors, labels = labels, shadow = True, explode = explode, autopct = '%.2f%%')\n",
    "plt.title('A Pie Chart representing the marital status of customers', fontsize = 15)\n",
    "plt.legend()\n",
    "plt.show()"
   ]
  },
  {
   "cell_type": "code",
   "execution_count": 31,
   "id": "05720f47-9275-4186-be37-0f18016bdfc5",
   "metadata": {},
   "outputs": [
    {
     "data": {
      "image/png": "[encoded data removed]",
      "text/plain": [
       "<Figure size 800x500 with 1 Axes>"
      ]
     },
     "metadata": {},
     "output_type": "display_data"
    }
   ],
   "source": [
    "# checking the dependency of marital status on purchasing power\n",
    "\n",
    "Marital_status_purchase=df.groupby('Marital_Status')['Purchase'].sum()\n",
    "\n",
    "plt.figure(figsize=(8,5))\n",
    "sns.barplot(x=Marital_status_purchase.index,y=Marital_status_purchase.values, palette='plasma')\n",
    "plt.title('Total Purchase Amount by marital status')\n",
    "plt.ylabel('Total Purchase Amount')\n",
    "plt.xlabel('Marital status')\n",
    "plt.show()"
   ]
  },
  {
   "cell_type": "markdown",
   "id": "22cc6e98-cb40-4aea-9854-66431df42470",
   "metadata": {},
   "source": [
    "Inference:\n",
    "\n",
    "Unmarried population purchasing power is more as compared to married."
   ]
  },
  {
   "cell_type": "markdown",
   "id": "9a716873-25fd-4ed3-81eb-eb175c76716a",
   "metadata": {},
   "source": [
    "3. Product Categories Performance\n",
    "   \n",
    "Top Product Categories:"
   ]
  },
  {
   "cell_type": "code",
   "execution_count": 32,
   "id": "fb7a42fc-34f0-4bc5-af97-5aee856938b4",
   "metadata": {},
   "outputs": [
    {
     "data": {
      "text/plain": [
       "<Axes: xlabel='Product 3', ylabel='Purchase'>"
      ]
     },
     "execution_count": 32,
     "metadata": {},
     "output_type": "execute_result"
    },
    {
     "data": {
      "image/png": "[encoded data removed]",
      "text/plain": [
       "<Figure size 1700x400 with 3 Axes>"
      ]
     },
     "metadata": {},
     "output_type": "display_data"
    }
   ],
   "source": [
    "# Top product categories by Purchase amount\n",
    "plt.figure(figsize=(17,4))\n",
    "d = df.loc[:,\"Product 1\":\"Purchase\"].astype(int)\n",
    "sns.barplot(x=\"Product 1\",y=\"Purchase\",data=d,ax=plt.subplot(1,3,1),palette=\"mako\")\n",
    "sns.barplot(x=\"Product 2\",y=\"Purchase\",data=d,ax=plt.subplot(1,3,2),palette=\"pastel\")\n",
    "sns.barplot(x=\"Product 3\",y=\"Purchase\",data=d,ax=plt.subplot(1,3,3),palette=\"icefire\")"
   ]
  },
  {
   "cell_type": "markdown",
   "id": "f658c648-7bbf-464e-881a-651958a8070a",
   "metadata": {},
   "source": [
    "Inferences:\n",
    "\n",
    "Product 1 of category 10 is purchased most number of times followed by category 7 then 6\n",
    "\n",
    "Product 2 of category 10 is purchased most number of times followed by category 2 then 6\n",
    "\n",
    "Product 3 of category 3 is purchased most number of times followed by category 10 then 13"
   ]
  },
  {
   "cell_type": "markdown",
   "id": "b905c455-637d-4734-9aa6-7b20ffd4e642",
   "metadata": {},
   "source": []
  },
  {
   "cell_type": "markdown",
   "id": "0d792df7-e72e-4067-8d07-ddd5a729e661",
   "metadata": {},
   "source": [
    "Conclusion:\n",
    "\n",
    "UnMarried Man belonging to middle-aged age group working in occupation 4 living in City B having stay duration of 1 year are likely to purchase \n",
    "Product 1 and Product 2 of category 10 and Product 3 of category 3."
   ]
  },
  {
   "cell_type": "code",
   "execution_count": null,
   "id": "4fef49e8-cf66-4729-8f46-8c66b3ea3bee",
   "metadata": {},
   "outputs": [],
   "source": []
  }
 ],
 "metadata": {
  "kernelspec": {
   "display_name": "Python 3 (ipykernel)",
   "language": "python",
   "name": "python3"
  },
  "language_info": {
   "codemirror_mode": {
    "name": "ipython",
    "version": 3
   },
   "file_extension": ".py",
   "mimetype": "text/x-python",
   "name": "python",
   "nbconvert_exporter": "python",
   "pygments_lexer": "ipython3",
   "version": "3.12.5"
  }
 },
 "nbformat": 4,
 "nbformat_minor": 5
}
